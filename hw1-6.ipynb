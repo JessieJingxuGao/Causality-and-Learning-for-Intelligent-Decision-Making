{
 "cells": [
  {
   "cell_type": "markdown",
   "metadata": {},
   "source": [
    "Since |CR_24|=2704156 is too big to do by hand. We can either use Randomization test or do permutation test without random sampling of all possible assignmetns by coding (from scratch or using packages in R like perm, jmuOutlier, or potential other Python packages as well).\n",
    "\n",
    "Here we try to do it by python coding from scratch to implement the permutation test."
   ]
  },
  {
   "cell_type": "code",
   "execution_count": 51,
   "metadata": {
    "collapsed": false
   },
   "outputs": [],
   "source": [
    "import numpy as np\n",
    "\n",
    "import scipy\n",
    "import scipy.stats\n",
    "from scipy.stats import ks_2samp as ksstats"
   ]
  },
  {
   "cell_type": "code",
   "execution_count": 17,
   "metadata": {
    "collapsed": false
   },
   "outputs": [
    {
     "data": {
      "text/plain": [
       "2704156"
      ]
     },
     "execution_count": 17,
     "metadata": {},
     "output_type": "execute_result"
    }
   ],
   "source": [
    "# The total number of assignments we can do = C(24,12)=\n",
    "\n",
    "def numAssignment(n):\n",
    "    n=int(n)\n",
    "    half=int(n/2)\n",
    "    nominator=1\n",
    "    for i in range(n,half,-1):\n",
    "        nominator=nominator*i\n",
    "\n",
    "    denominator=1\n",
    "    for i in range(half,0,-1):\n",
    "        denominator=denominator*i\n",
    "    \n",
    "    return int(nominator/denominator)\n",
    "\n",
    "numAssignment(24)"
   ]
  },
  {
   "cell_type": "markdown",
   "metadata": {},
   "source": [
    "As the exact complete enumeration/permutation assignment is harder to code, we use Monte Carlo to approximate the exact result. But we can set the number of MC to be really big to reduce the potential bias.\n",
    "\n",
    "Codes referred to:\n",
    "https://stackoverflow.com/questions/24795535/pythons-implementation-of-permutation-test-with-permutation-number-as-input\n"
   ]
  },
  {
   "cell_type": "code",
   "execution_count": 55,
   "metadata": {
    "collapsed": true
   },
   "outputs": [],
   "source": [
    "def exact_mc_perm_test(xs, ys, nmc,method):\n",
    "    if method==\"mean\":\n",
    "        n, k = len(xs), 0\n",
    "        tao = (sum(xs) - sum(ys))*2/n\n",
    "#             same with np.mean(xs)-np.mean(ys)\n",
    "        zs = np.concatenate([xs, ys])\n",
    "        for j in range(nmc):\n",
    "            np.random.shuffle(zs)\n",
    "            tao2=(sum(zs[:n]) - sum(zs[n:]))*2/n\n",
    "            k +=  (  np.abs(tao) <= np.abs(tao2) )\n",
    "            fisher_p=k / nmc\n",
    "        return fisher_p\n",
    "    \n",
    "    if method==\"median\":\n",
    "        n, k = len(xs), 0\n",
    "        tao = np.median(xs) - np.median(ys)\n",
    "        zs = np.concatenate([xs, ys])\n",
    "        for j in range(nmc):\n",
    "            np.random.shuffle(zs)\n",
    "            tao2 = np.median(zs[:n]) - np.median(zs[n:])\n",
    "            k +=  (  np.abs(tao) <= np.abs(tao2) )\n",
    "            fisher_p=k / nmc\n",
    "        return fisher_p\n",
    "\n",
    "    if method==\"ks\":\n",
    "        n, k = len(xs), 0\n",
    "        tao = ksstats(xs,ys)[0]\n",
    "        zs = np.concatenate([xs, ys])\n",
    "        for j in range(nmc):\n",
    "            np.random.shuffle(zs)\n",
    "            tao2 = ksstats(zs[:n],zs[n:])[0]\n",
    "            k +=  (  np.abs(tao) <= np.abs(tao2) )\n",
    "            fisher_p=k / nmc\n",
    "        return fisher_p\n",
    "    \n",
    "    \n",
    "    # we use scipy.stats.ks_2samp to get the value of KS \n",
    "# https://docs.scipy.org/doc/scipy-0.19.1/reference/generated/scipy.stats.ks_2samp.html\n"
   ]
  },
  {
   "cell_type": "markdown",
   "metadata": {},
   "source": [
    "Data input"
   ]
  },
  {
   "cell_type": "code",
   "execution_count": 47,
   "metadata": {
    "collapsed": false
   },
   "outputs": [],
   "source": [
    "y_0 = np.array([21.51,28.14,24.04,23.45,23.68,19.79,28.4,20.98,22.51,20.1,26.91,26.25])\n",
    "y_1 = np.array ([25.71,26.37,22.8,25.34,24.97,28.14,29.58,30.92,34.02,21.9,31.53,20.73])\n",
    "n=len(y_0)+len(y_1)"
   ]
  },
  {
   "cell_type": "markdown",
   "metadata": {},
   "source": [
    "### Result"
   ]
  },
  {
   "cell_type": "markdown",
   "metadata": {},
   "source": [
    "1) The mean difference and p-value for the sharp null"
   ]
  },
  {
   "cell_type": "code",
   "execution_count": 39,
   "metadata": {
    "collapsed": false
   },
   "outputs": [
    {
     "data": {
      "text/plain": [
       "3.0208333333333335"
      ]
     },
     "execution_count": 39,
     "metadata": {},
     "output_type": "execute_result"
    }
   ],
   "source": [
    "(sum(y_1) - sum(y_0))*2/n"
   ]
  },
  {
   "cell_type": "code",
   "execution_count": 40,
   "metadata": {
    "collapsed": false
   },
   "outputs": [
    {
     "data": {
      "text/plain": [
       "0.050666666666666665"
      ]
     },
     "execution_count": 40,
     "metadata": {},
     "output_type": "execute_result"
    }
   ],
   "source": [
    "exact_mc_perm_test(y_1,y_0,3000,\"mean\")"
   ]
  },
  {
   "cell_type": "markdown",
   "metadata": {},
   "source": [
    "2) The median difference and p-value for it"
   ]
  },
  {
   "cell_type": "code",
   "execution_count": 42,
   "metadata": {
    "collapsed": false
   },
   "outputs": [
    {
     "data": {
      "text/plain": [
       "2.4750000000000014"
      ]
     },
     "execution_count": 42,
     "metadata": {},
     "output_type": "execute_result"
    }
   ],
   "source": [
    "np.median(y_1) - np.median(y_0)"
   ]
  },
  {
   "cell_type": "code",
   "execution_count": 43,
   "metadata": {
    "collapsed": false
   },
   "outputs": [
    {
     "data": {
      "text/plain": [
       "0.24833333333333332"
      ]
     },
     "execution_count": 43,
     "metadata": {},
     "output_type": "execute_result"
    }
   ],
   "source": [
    "exact_mc_perm_test(y_1,y_0,3000,\"median\")"
   ]
  },
  {
   "cell_type": "code",
   "execution_count": null,
   "metadata": {
    "collapsed": true
   },
   "outputs": [],
   "source": [
    "3) The median difference and p-value for KS "
   ]
  },
  {
   "cell_type": "code",
   "execution_count": 59,
   "metadata": {
    "collapsed": false
   },
   "outputs": [
    {
     "data": {
      "text/plain": [
       "Ks_2sampResult(statistic=0.41666666666666663, pvalue=0.186196839004176)"
      ]
     },
     "execution_count": 59,
     "metadata": {},
     "output_type": "execute_result"
    }
   ],
   "source": [
    "ksstats(y_1 ,y_0)\n",
    "# ksstats(y_1 ,y_1)\n",
    "# Ks_2sampResult(statistic=0.0, pvalue=1.0)"
   ]
  },
  {
   "cell_type": "code",
   "execution_count": 60,
   "metadata": {
    "collapsed": false
   },
   "outputs": [
    {
     "data": {
      "text/plain": [
       "0.24366666666666667"
      ]
     },
     "execution_count": 60,
     "metadata": {},
     "output_type": "execute_result"
    }
   ],
   "source": [
    "exact_mc_perm_test(y_1,y_0,3000,\"ks\")"
   ]
  }
 ],
 "metadata": {
  "kernelspec": {
   "display_name": "Python [Root]",
   "language": "python",
   "name": "Python [Root]"
  },
  "language_info": {
   "codemirror_mode": {
    "name": "ipython",
    "version": 3
   },
   "file_extension": ".py",
   "mimetype": "text/x-python",
   "name": "python",
   "nbconvert_exporter": "python",
   "pygments_lexer": "ipython3",
   "version": "3.5.2"
  }
 },
 "nbformat": 4,
 "nbformat_minor": 0
}
