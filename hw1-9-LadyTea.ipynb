{
 "cells": [
  {
   "cell_type": "markdown",
   "metadata": {},
   "source": [
    "## a)  \n",
    "Here we only have 8 cups to test and we let the lady test all of them (Fisher sharp null), rather than we offer 8 cups but only let the lady test part of them, in which case randomization consideration (Neyman's approach) is more appropriate.\n",
    "\n",
    "*Self-reading: Fisher alsp later discussed the benefits of more trials and repeated tests.*"
   ]
  },
  {
   "cell_type": "markdown",
   "metadata": {},
   "source": [
    "## b)  \n",
    "We will calculate Fisher's exact p value.  \n",
    "Fisherian sharp null ($H_0$): The lady has no faculty of discrimination. Under $H_0$, the distribution of $\\tau$ is calculated as below using permutation test."
   ]
  },
  {
   "cell_type": "markdown",
   "metadata": {},
   "source": [
    "values of $\\tau$"
   ]
  },
  {
   "cell_type": "code",
   "execution_count": 1,
   "metadata": {
    "collapsed": false
   },
   "outputs": [
    {
     "data": {
      "text/plain": [
       "[1.0, 0.5, 0.0, -0.5, -1.0]"
      ]
     },
     "execution_count": 1,
     "metadata": {},
     "output_type": "execute_result"
    }
   ],
   "source": [
    "import numpy as np\n",
    "tau=[0]*5\n",
    "# getting 0,1,2,3,4 of the cus right\n",
    "\n",
    "for i in range(0,5):\n",
    "    y_1=[1]*i +[0]*(4-i)\n",
    "    y_0=[1]*(4-i) +[0]*i\n",
    "    tau[4-i]=(np.mean(y_1)-np.mean(y_0))\n",
    "tau"
   ]
  },
  {
   "cell_type": "markdown",
   "metadata": {},
   "source": [
    "value of probability regarding each $\\tau$"
   ]
  },
  {
   "cell_type": "code",
   "execution_count": 3,
   "metadata": {
    "collapsed": false
   },
   "outputs": [
    {
     "data": {
      "text/plain": [
       "[0.014285714285714285,\n",
       " 0.22857142857142856,\n",
       " 0.5142857142857142,\n",
       " 0.22857142857142856,\n",
       " 0.014285714285714285]"
      ]
     },
     "execution_count": 3,
     "metadata": {},
     "output_type": "execute_result"
    }
   ],
   "source": [
    "# The total number of combination (A,B): choosing B cups from A being 1, the rest being 0.\n",
    "\n",
    "def numCombination(A,B):\n",
    "    A=int(A)\n",
    "    B=int(B)\n",
    "    \n",
    "    if B==0:\n",
    "        return int(1)\n",
    "    \n",
    "    nominator=1\n",
    "    for i in range(A,(A-B),-1):\n",
    "        nominator=nominator*i\n",
    "\n",
    "    denominator=1\n",
    "    for i in range(B,0,-1):\n",
    "        denominator=denominator*i\n",
    "        \n",
    "    return int(nominator/denominator)\n",
    "\n",
    "#     getting n cups right\n",
    "\n",
    "def prob(n):\n",
    "    result=numCombination(4,n)*numCombination(4,(4-n))/numCombination(8,4)\n",
    "    return result\n",
    "\n",
    "problist=[0]*5\n",
    "for i in range(0,5):\n",
    "    problist[4-i]=prob(i)\n",
    "problist"
   ]
  },
  {
   "cell_type": "markdown",
   "metadata": {
    "collapsed": true
   },
   "source": [
    "\\begin{cases}\n",
    "  \\tau=1 & with prob\\  {0.014}\n",
    "  \\\\\n",
    "  \\tau=0.5 &with prob\\  {0.229}\n",
    "    \\\\\n",
    "  \\tau=0 &with prob\\ {0.514}\n",
    "      \\\\\n",
    "  \\tau=-0.5 &with prob\\ {0.229}\n",
    "          \\\\\n",
    "  \\tau=-1 &with prob\\  {0.014}\n",
    "\\end{cases}"
   ]
  },
  {
   "cell_type": "markdown",
   "metadata": {
    "collapsed": true
   },
   "source": [
    "Fisher's exact P value regarding different $\\hat{\\tau}$\n",
    "\n",
    "\n",
    "<mark>Notice that we should not use absolute value as -1 means totally wrong. We use right side here. </mark> "
   ]
  },
  {
   "cell_type": "markdown",
   "metadata": {},
   "source": [
    "\\begin{cases}\n",
    "  \\hat{\\tau}\\geq1 & p=\\  {0.014}\n",
    "  \\\\\n",
    "\\hat{\\tau}\\geq0.5 & p=\\  {0.243}\n",
    "    \\\\\n",
    "\\hat{\\tau}\\geq0 &p=\\ {0.757}\n",
    "      \\\\\n",
    "\\hat{\\tau}\\geq-0.5 &p=\\ {0.986}\n",
    "          \\\\\n",
    "\\hat{\\tau}\\geq-1 &p=\\  {1}\n",
    "\\end{cases}"
   ]
  },
  {
   "cell_type": "markdown",
   "metadata": {},
   "source": [
    " As $0.0014<0.05$, if and only if the lady properly categorized all 8 cups, will Fisher's algorithm be willing to reject the null hypothesis – effectively acknowledging the lady's ability at a 1.4% significance level.\n",
    "  \n",
    "<mark> I am not sure how is significance of the test defined and why we have a smallest</mark>"
   ]
  },
  {
   "cell_type": "markdown",
   "metadata": {},
   "source": [
    "## c)   \n",
    "If lady has perfect discriminatory powers ($ Yi(z) = z$), then $\\hat{\\tau} = 1$.\n",
    "Whether to reject and Probability of rejecting the null <mark> depend on the p-value we set, so how can we come up with a probability without mentioning the threshold set</mark>. If the threshold is wet to be 0.01, then we will never reject null hypothesis."
   ]
  },
  {
   "cell_type": "markdown",
   "metadata": {},
   "source": [
    "## d)  \n",
    "If lady gives each cup a score $Si$ and declares the top four scored cups to have milk first, where $Si ∼ unif[\\min \\{Zi, 1 − γ \\} , \\max \\{Zi, γ\\}]$ for some $γ ∈ (0, 1)$), the p value will be changed.\n",
    "\n",
    "If $Zi=0$, $Si ∼ unif[0, γ]$,  \n",
    "If $Zi=1$, $Si ∼ unif[1-γ,1]$.\n",
    "\n",
    "Under null hypothesis (the lady has no sense), the distribution of $\\tau$ is still the same, but we notice that in this case, the lady has some sense of discrimination as the $\\gamma$ indicates."
   ]
  },
  {
   "cell_type": "markdown",
   "metadata": {
    "collapsed": true
   },
   "source": [
    "We notice that \n",
    "- if $\\gamma <= 0.5$, the lady will rank all \"milk first\" over \"tea first\", thus we will have $\\tau=1$ (we ignore the ppint where $\\gamma = 0.5$ as the prob is too small to be considered;\n",
    "- if $\\gamma > 0.5$, there is some probability that some $Si ∼ unif[0, γ]$ might be bigger than $Si ∼ unif[1-γ,1]$. There should be methods to calculate this analytically. Here we use <mark>simulation </mark> to reduce theoretical difficulty."
   ]
  },
  {
   "cell_type": "code",
   "execution_count": 4,
   "metadata": {
    "collapsed": false
   },
   "outputs": [],
   "source": [
    "def simuTau(gamma,num_iter):\n",
    "    \n",
    "    iter_sum=0\n",
    "    \n",
    "    for iter in range(num_iter):\n",
    "        s_y0=np.random.uniform(0,gamma,4)\n",
    "        s_y1=np.random.uniform(1-gamma,1,4)\n",
    "\n",
    "        si=[]\n",
    "        for item in s_y0:\n",
    "            si.append(item)\n",
    "        for item in s_y1:\n",
    "            si.append(item)\n",
    "\n",
    "        # we ignore the very small-likely-to happen situation where the median is the same one or more item in the list\n",
    "\n",
    "        yi_1=[]\n",
    "\n",
    "        median_=np.median(si)\n",
    "\n",
    "        for item in s_y1:\n",
    "            yi_1.append( item>median_)\n",
    "\n",
    "        tao_hat=sum(yi_1)/4-(4-sum(yi_1))/4\n",
    "\n",
    "        iter_sum+=tao_hat\n",
    "    \n",
    "    return iter_sum/num_iter\n"
   ]
  },
  {
   "cell_type": "markdown",
   "metadata": {},
   "source": [
    "Since there is randomness in the lady's judgement process. The $\\hat{\\tau}$ will differ from trial to trial (each 8-cup test is a trial). For example if we set $\\gamma$ to be 0.7, then the $\\hat{\\tau}$ we see in 5 different trials could be:"
   ]
  },
  {
   "cell_type": "code",
   "execution_count": 79,
   "metadata": {
    "collapsed": false
   },
   "outputs": [
    {
     "name": "stdout",
     "output_type": "stream",
     "text": [
      "0.0\n",
      "0.5\n",
      "1.0\n",
      "0.5\n",
      "0.0\n"
     ]
    }
   ],
   "source": [
    "for i in range(0,5):\n",
    "    print(simuTau(0.7,1))"
   ]
  },
  {
   "cell_type": "markdown",
   "metadata": {},
   "source": [
    "Here we calculate the expectation of $\\hat{\\tau}$ regarding to $\\gamma=0.7$ as an example."
   ]
  },
  {
   "cell_type": "code",
   "execution_count": 84,
   "metadata": {
    "collapsed": false
   },
   "outputs": [
    {
     "name": "stdout",
     "output_type": "stream",
     "text": [
      "0.484\n"
     ]
    }
   ],
   "source": [
    "print(simuTau(0.7,10000))"
   ]
  },
  {
   "cell_type": "markdown",
   "metadata": {},
   "source": [
    "We use the expected $\\hat{\\tau}$ to calculate the p-values for each $\\gamma$. Here we use $\\gamma=0.7$ as an example."
   ]
  },
  {
   "cell_type": "code",
   "execution_count": 5,
   "metadata": {
    "collapsed": false
   },
   "outputs": [
    {
     "data": {
      "text/plain": [
       "0.7571428571428571"
      ]
     },
     "execution_count": 5,
     "metadata": {},
     "output_type": "execute_result"
    }
   ],
   "source": [
    "def simuP(gamma,num_iter,tau_permutate,problist_permutate):\n",
    "#     print(simuTau(gamma,num_iter))\n",
    "    for i in range(0,5):\n",
    "#         print(i)\n",
    "        if simuTau(gamma,num_iter) >= tau_permutate[i]:\n",
    "#             print(problist_permutate[:i+1])\n",
    "            return sum(problist_permutate[:i+1])\n",
    "\n",
    "simuP(0.7,10000,tau,problist)"
   ]
  },
  {
   "cell_type": "markdown",
   "metadata": {},
   "source": [
    "We can now draw the p-value for different $\\gamma$ "
   ]
  },
  {
   "cell_type": "code",
   "execution_count": 14,
   "metadata": {
    "collapsed": false
   },
   "outputs": [],
   "source": [
    "def simuPArray(gamma_array,num_iter,tau_permutate,problist_permutate):\n",
    "    result=[]\n",
    "    for item in gamma_array:\n",
    "        result.append(simuP(item,num_iter,tau_permutate,problist_permutate))\n",
    "    return result"
   ]
  },
  {
   "cell_type": "code",
   "execution_count": 18,
   "metadata": {
    "collapsed": false
   },
   "outputs": [
    {
     "data": {
      "image/png": "[encoded data removed]",
      "text/plain": [
       "<matplotlib.figure.Figure at 0x115678320>"
      ]
     },
     "metadata": {},
     "output_type": "display_data"
    }
   ],
   "source": [
    "import matplotlib.pyplot as plt\n",
    "%matplotlib inline  \n",
    "\n",
    "x_ = np.linspace(0, 1, 20)\n",
    "y_=simuPArray(x_,50000,tau,problist)\n",
    "\n",
    "plt.plot(x_,y_)\n",
    "# plt.title('A simple chirp')\n",
    "# plt.plot(timeArray, data, color='k')\n",
    "# plt.ylabel('Amplitude')\n",
    "# plt.xlabel('Time (ms)')\n",
    "plt.show()"
   ]
  }
 ],
 "metadata": {
  "anaconda-cloud": {},
  "kernelspec": {
   "display_name": "Python [Root]",
   "language": "python",
   "name": "Python [Root]"
  },
  "language_info": {
   "codemirror_mode": {
    "name": "ipython",
    "version": 3
   },
   "file_extension": ".py",
   "mimetype": "text/x-python",
   "name": "python",
   "nbconvert_exporter": "python",
   "pygments_lexer": "ipython3",
   "version": "3.5.2"
  }
 },
 "nbformat": 4,
 "nbformat_minor": 0
}
