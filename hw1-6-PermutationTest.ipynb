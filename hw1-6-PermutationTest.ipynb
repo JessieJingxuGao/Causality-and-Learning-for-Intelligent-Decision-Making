{
 "cells": [
  {
   "cell_type": "markdown",
   "metadata": {},
   "source": [
    "Since |CR_24|=2704156 is too big to do by hand. We can either use **Randomization test** or do **full permutation test without random sampling of all possible assignmetns** We tried to from scratch rather than using packages in R like perm, jmuOutlier, or potential other Python packages as well.\n",
    "\n",
    "Here we try to do it by python coding from scratch to implement the permutation test."
   ]
  },
  {
   "cell_type": "code",
   "execution_count": 1,
   "metadata": {
    "collapsed": false
   },
   "outputs": [],
   "source": [
    "import numpy as np\n",
    "\n",
    "import scipy\n",
    "import scipy.stats\n",
    "from scipy.stats import ks_2samp as ksstats"
   ]
  },
  {
   "cell_type": "code",
   "execution_count": 2,
   "metadata": {
    "collapsed": false
   },
   "outputs": [
    {
     "data": {
      "text/plain": [
       "2704156"
      ]
     },
     "execution_count": 2,
     "metadata": {},
     "output_type": "execute_result"
    }
   ],
   "source": [
    "# The total number of assignments we can do = C(24,12)=\n",
    "\n",
    "def numCombination(A,B):\n",
    "    A=int(A)\n",
    "    B=int(B)\n",
    "    \n",
    "    if B==0:\n",
    "        return int(1)\n",
    "    \n",
    "    nominator=1\n",
    "    for i in range(A,(A-B),-1):\n",
    "        nominator=nominator*i\n",
    "\n",
    "    denominator=1\n",
    "    for i in range(B,0,-1):\n",
    "        denominator=denominator*i\n",
    "        \n",
    "    return int(nominator/denominator)\n",
    "\n",
    "numCombination(24,12)"
   ]
  },
  {
   "cell_type": "markdown",
   "metadata": {},
   "source": [
    "As the exact complete enumeration/permutation assignment is harder to code, we use Monte Carlo to approximate the exact result. But we can set the number of MC to be really big ** (10 times the permutation number for mean and 3 times for median) ** to reduce the potential bias.\n",
    "\n",
    "Codes referred to:\n",
    "https://stackoverflow.com/questions/24795535/pythons-implementation-of-permutation-test-with-permutation-number-as-input\n",
    "\n",
    "For KS statistics, the computation time is too long, so **randomization is used**, and we choose a relatively big B (number of records used) to be 100000. \n",
    "\n",
    "The structures of codes for both methods are the same when Monte Carlo is used, but the p-value equation is differnet in terms of smoothing tems \"+1\".\n"
   ]
  },
  {
   "cell_type": "code",
   "execution_count": 3,
   "metadata": {
    "collapsed": true
   },
   "outputs": [],
   "source": [
    "def exact_mc_perm_test(xs, ys, nmc,method):\n",
    "    if method==\"mean\":\n",
    "        n, k = len(xs), 0\n",
    "        tao = (sum(xs) - sum(ys))*2/n\n",
    "#             same with np.mean(xs)-np.mean(ys)\n",
    "        zs = np.concatenate([xs, ys])\n",
    "        for j in range(nmc):\n",
    "            np.random.shuffle(zs)\n",
    "            tao2=(sum(zs[:n]) - sum(zs[n:]))*2/n\n",
    "            k +=  (  np.abs(tao) <= np.abs(tao2) )\n",
    "        fisher_p=k / nmc\n",
    "        return fisher_p\n",
    "    \n",
    "    if method==\"median\":\n",
    "        n, k = len(xs), 0\n",
    "        tao = np.median(xs) - np.median(ys)\n",
    "        zs = np.concatenate([xs, ys])\n",
    "        for j in range(nmc):\n",
    "            np.random.shuffle(zs)\n",
    "            tao2 = np.median(zs[:n]) - np.median(zs[n:])\n",
    "            k +=  (  np.abs(tao) <= np.abs(tao2) )\n",
    "        fisher_p=k / nmc\n",
    "        return fisher_p\n",
    "\n",
    "    if method==\"ks-random\":\n",
    "#         here nmc is in fact B \n",
    "        n, k = len(xs), 0\n",
    "        tao = ksstats(xs,ys)[0]\n",
    "        zs = np.concatenate([xs, ys])\n",
    "        for j in range(nmc):\n",
    "            np.random.shuffle(zs)\n",
    "            tao2 = ksstats(zs[:n],zs[n:])[0]\n",
    "            k +=  (  np.abs(tao) <= np.abs(tao2) )\n",
    "        k+=1\n",
    "        nmc+=1\n",
    "        fisher_p=k / nmc\n",
    "        return fisher_p\n",
    "    \n",
    "    \n",
    "    # we use scipy.stats.ks_2samp to get the value of KS \n",
    "# https://docs.scipy.org/doc/scipy-0.19.1/reference/generated/scipy.stats.ks_2samp.html\n"
   ]
  },
  {
   "cell_type": "markdown",
   "metadata": {},
   "source": [
    "Data input"
   ]
  },
  {
   "cell_type": "code",
   "execution_count": 5,
   "metadata": {
    "collapsed": false
   },
   "outputs": [],
   "source": [
    "y_0 = np.array([21.51,28.14,24.04,23.45,23.68,19.79,28.4,20.98,22.51,20.1,26.91,26.25])\n",
    "y_1 = np.array ([25.71,26.37,22.8,25.34,24.97,28.14,29.58,30.92,34.02,21.9,31.53,20.73])\n",
    "n=len(y_0)+len(y_1)"
   ]
  },
  {
   "cell_type": "markdown",
   "metadata": {},
   "source": [
    "### Result"
   ]
  },
  {
   "cell_type": "markdown",
   "metadata": {},
   "source": [
    "1) The mean difference and p-value for the sharp null"
   ]
  },
  {
   "cell_type": "code",
   "execution_count": 5,
   "metadata": {
    "collapsed": false
   },
   "outputs": [
    {
     "data": {
      "text/plain": [
       "3.0208333333333335"
      ]
     },
     "execution_count": 5,
     "metadata": {},
     "output_type": "execute_result"
    }
   ],
   "source": [
    "(sum(y_1) - sum(y_0))*2/n"
   ]
  },
  {
   "cell_type": "code",
   "execution_count": 6,
   "metadata": {
    "collapsed": false
   },
   "outputs": [
    {
     "data": {
      "text/plain": [
       "0.052411954044071424"
      ]
     },
     "execution_count": 6,
     "metadata": {},
     "output_type": "execute_result"
    }
   ],
   "source": [
    "exact_mc_perm_test(y_1,y_0,2704156*10,\"mean\")"
   ]
  },
  {
   "cell_type": "markdown",
   "metadata": {},
   "source": [
    "2) The median difference and p-value for it"
   ]
  },
  {
   "cell_type": "code",
   "execution_count": 7,
   "metadata": {
    "collapsed": false
   },
   "outputs": [
    {
     "data": {
      "text/plain": [
       "2.4750000000000014"
      ]
     },
     "execution_count": 7,
     "metadata": {},
     "output_type": "execute_result"
    }
   ],
   "source": [
    "np.median(y_1) - np.median(y_0)"
   ]
  },
  {
   "cell_type": "code",
   "execution_count": 14,
   "metadata": {
    "collapsed": false
   },
   "outputs": [
    {
     "data": {
      "text/plain": [
       "0.24404965295394693"
      ]
     },
     "execution_count": 14,
     "metadata": {},
     "output_type": "execute_result"
    }
   ],
   "source": [
    "exact_mc_perm_test(y_1,y_0,2704156*3,\"median\")"
   ]
  },
  {
   "cell_type": "markdown",
   "metadata": {
    "collapsed": true
   },
   "source": [
    "3) The median difference and p-value for KS "
   ]
  },
  {
   "cell_type": "code",
   "execution_count": 6,
   "metadata": {
    "collapsed": false
   },
   "outputs": [
    {
     "data": {
      "text/plain": [
       "Ks_2sampResult(statistic=0.41666666666666663, pvalue=0.186196839004176)"
      ]
     },
     "execution_count": 6,
     "metadata": {},
     "output_type": "execute_result"
    }
   ],
   "source": [
    "ksstats(y_1 ,y_0)\n",
    "# ksstats(y_1 ,y_1) -> # Ks_2sampResult(statistic=0.0, pvalue=1.0)"
   ]
  },
  {
   "cell_type": "code",
   "execution_count": 7,
   "metadata": {
    "collapsed": false
   },
   "outputs": [
    {
     "data": {
      "text/plain": [
       "0.25137486251374863"
      ]
     },
     "execution_count": 7,
     "metadata": {},
     "output_type": "execute_result"
    }
   ],
   "source": [
    "exact_mc_perm_test(y_1,y_0,10000,\"ks-random\")"
   ]
  },
  {
   "cell_type": "code",
   "execution_count": 8,
   "metadata": {
    "collapsed": false
   },
   "outputs": [
    {
     "data": {
      "text/plain": [
       "0.25429745702542972"
      ]
     },
     "execution_count": 8,
     "metadata": {},
     "output_type": "execute_result"
    }
   ],
   "source": [
    "exact_mc_perm_test(y_1,y_0,100000,\"ks-random\")"
   ]
  },
  {
   "cell_type": "markdown",
   "metadata": {},
   "source": [
    "Explanation:\n",
    "\n",
    "Median and KS statistics gave us similar p-values which showed that the treatement effect was not significant. However, using mean difference would give us significant treatmenet effect. I would choose not to take the result of using mean difference as it might be not so robust to outliers as the other two methods."
   ]
  }
 ],
 "metadata": {
  "anaconda-cloud": {},
  "kernelspec": {
   "display_name": "Python [Root]",
   "language": "python",
   "name": "Python [Root]"
  },
  "language_info": {
   "codemirror_mode": {
    "name": "ipython",
    "version": 3
   },
   "file_extension": ".py",
   "mimetype": "text/x-python",
   "name": "python",
   "nbconvert_exporter": "python",
   "pygments_lexer": "ipython3",
   "version": "3.5.2"
  }
 },
 "nbformat": 4,
 "nbformat_minor": 0
}
